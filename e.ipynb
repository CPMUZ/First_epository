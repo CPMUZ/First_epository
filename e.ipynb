{
 "cells": [
  {
   "cell_type": "code",
   "execution_count": 36,
   "metadata": {},
   "outputs": [],
   "source": [
    "import smtplib\n",
    "from email.mime.multipart import MIMEMultipart\n",
    "from email.mime.base import MIMEBase\n",
    "from email.mime.text import MIMEText\n",
    "from email import encoders\n",
    "import pandas as pd"
   ]
  },
  {
   "cell_type": "code",
   "execution_count": 37,
   "metadata": {},
   "outputs": [],
   "source": [
    "horario=[]\n",
    "data= []\n",
    "compromisso= []\n",
    "urgencia=[]"
   ]
  },
  {
   "cell_type": "code",
   "execution_count": 38,
   "metadata": {},
   "outputs": [
    {
     "name": "stdout",
     "output_type": "stream",
     "text": [
      "['aula']\n",
      "[15]\n",
      "[16]\n",
      "['alta']\n"
     ]
    }
   ],
   "source": [
    "\n",
    "n= int(input(\"Quantos compromissos deseja cadastrar: \"))\n",
    "mes= int(input(\"Qual mes estamos lidando ? \"))\n",
    "i=0\n",
    "for i in range (n):\n",
    "    d= int(input(\"Digite a data do seu compromisso: \"))\n",
    "    c= str(input(\"Digite o nome do seu compromisso: \"))\n",
    "    h=int(input(\"Digite o horário do seu compromisso: \"))\n",
    "    u= str(input(\"Qual a urgência de seu comprmisso ? \"))\n",
    "    data.append(d)\n",
    "    compromisso.append(c)\n",
    "    horario.append(h)\n",
    "    urgencia.append(u)\n",
    "print(compromisso)\n",
    "print(data)\n",
    "print(horario)\n",
    "print(urgencia)\n",
    "\n"
   ]
  },
  {
   "cell_type": "code",
   "execution_count": 39,
   "metadata": {},
   "outputs": [],
   "source": [
    "g= pd.Series(compromisso, data)\n",
    "df= pd.DataFrame({\"compromissos\":compromisso, \"data\": data, \"urgencia\": urgencia, \"horário\": horario})\n",
    "df\n",
    "csv_file= \"dados.csv\"\n",
    "df.to_csv(csv_file, index=False)"
   ]
  },
  {
   "cell_type": "code",
   "execution_count": 40,
   "metadata": {},
   "outputs": [
    {
     "name": "stdout",
     "output_type": "stream",
     "text": [
      "Confirmado\n",
      "Ocorreu um erro: (535, b'5.7.8 Username and Password not accepted. For more information, go to\\n5.7.8  https://support.google.com/mail/?p=BadCredentials 98e67ed59e1d1-2cb7733b5f3sm7978894a91.24 - gsmtp')\n"
     ]
    }
   ],
   "source": [
    "#CONFIRMAÇÃO EMAIL\n",
    "pemail= str(input(\"Você deseja que enviemos um email dias antes ?\"))\n",
    "if pemail == \"sim\" or \"Sim\":\n",
    "    print(\"Confirmado\")\n",
    "    FROM = \"camillopiresprofissional@gmail.com\" #email origem \n",
    "    TO = [\"camilloifmuz@gmail.com\"] #email alvo\n",
    "    SUBJECT = \"DataFrame como anexo\"\n",
    "    TEXT = \"Segue em anexo o arquivo CSV com os dados.\"\n",
    "\n",
    "    # Configurando a mensagem de email\n",
    "    message = MIMEMultipart()\n",
    "    message['From'] = FROM\n",
    "    message['To'] = \", \".join(TO)\n",
    "    message['Subject'] = SUBJECT\n",
    "\n",
    "    \n",
    "    message.attach(MIMEText(TEXT, 'plain'))\n",
    "\n",
    "    # Anexo\n",
    "    attachment = MIMEBase('application', 'octet-stream')\n",
    "    with open(csv_file, 'rb') as file:\n",
    "        attachment.set_payload(file.read())\n",
    "        encoders.encode_base64(attachment)\n",
    "    attachment.add_header('Content-Disposition', f'attachment; filename={csv_file}')\n",
    "    message.attach(attachment)\n",
    "\n",
    "    # 4. Conectando ao servidor SMTP e enviando o email\n",
    "    try:\n",
    "        server = smtplib.SMTP('smtp.gmail.com', 587)\n",
    "        server.starttls()\n",
    "        server.login(FROM, '**')  #Colocar a senha do email que irá enviar\n",
    "        server.sendmail(FROM, TO, message.as_string())\n",
    "        server.quit()\n",
    "        print(\"E-mail enviado com sucesso!\")\n",
    "    except Exception as e:\n",
    "        print(f\"Ocorreu um erro: {e}\")\n",
    "else:\n",
    "    print(\"Confirmado\")\n",
    "    print(\"Obrigado\")"
   ]
  }
 ],
 "metadata": {
  "kernelspec": {
   "display_name": "Python 3",
   "language": "python",
   "name": "python3"
  },
  "language_info": {
   "codemirror_mode": {
    "name": "ipython",
    "version": 3
   },
   "file_extension": ".py",
   "mimetype": "text/x-python",
   "name": "python",
   "nbconvert_exporter": "python",
   "pygments_lexer": "ipython3",
   "version": "3.12.4"
  }
 },
 "nbformat": 4,
 "nbformat_minor": 2
}
